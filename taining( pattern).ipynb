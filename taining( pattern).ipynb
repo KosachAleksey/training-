{
 "cells": [
  {
   "cell_type": "markdown",
   "metadata": {},
   "source": [
    "Паттерн проектирования программ \"Абстрактная фабрика (Abstract Factory)"
   ]
  },
  {
   "cell_type": "code",
   "execution_count": 5,
   "metadata": {},
   "outputs": [
    {
     "name": "stdout",
     "output_type": "stream",
     "text": [
      "Собрали японский автомобиль, Японский двигатель\n",
      "Собрали российсикий автомобиль, Российский двигатель\n"
     ]
    }
   ],
   "source": [
    "from abc import ABC, abstractmethod\n",
    "\n",
    "class IEngine(ABC):\n",
    "    @abstractmethod\n",
    "    def release_engine(self):\n",
    "        pass\n",
    "\n",
    "class JapaneseEngine(IEngine):\n",
    "    def release_engine(self):\n",
    "        print(\"Японский двигатель\")\n",
    "\n",
    "class RussianEngine(IEngine):\n",
    "    def release_engine(self):\n",
    "        print(\"Российский двигатель\")\n",
    "\n",
    "class ICar(ABC):\n",
    "    @abstractmethod\n",
    "    def release_car(self, engine: IEngine):\n",
    "        pass\n",
    "\n",
    "class JapaneseCar(ICar):\n",
    "    def release_car(self, engine: IEngine):\n",
    "        print(\"Собрали японский автомобиль, \", end='')\n",
    "        engine.release_engine()\n",
    "\n",
    "class RussianCar(ICar):\n",
    "    def release_car(self, engine: IEngine):\n",
    "        print(\"Собрали российсикий автомобиль, \", end='')\n",
    "        engine.release_engine()\n",
    "\n",
    "class IFactory(ABC):\n",
    "    @abstractmethod\n",
    "    def create_engine(self) -> IEngine:\n",
    "        pass\n",
    "    @abstractmethod\n",
    "    def create_car(self) -> ICar:\n",
    "        pass\n",
    "\n",
    "class JapaneseFactory(IFactory):\n",
    "    def create_engine(self) -> IEngine:\n",
    "        return JapaneseEngine()\n",
    "    \n",
    "    def create_car(self) -> ICar:\n",
    "        return JapaneseCar()\n",
    "    \n",
    "\n",
    "class RussianFactory(IFactory):\n",
    "    def create_engine(self) -> IEngine:\n",
    "        return RussianEngine()\n",
    "    \n",
    "    def create_car(self) -> ICar:\n",
    "        return RussianCar()\n",
    "    \n",
    "if __name__ == '__main__':\n",
    "\n",
    "    j_factory = JapaneseFactory()\n",
    "    j_engine = j_factory.create_engine()\n",
    "    j_car = j_factory.create_car()\n",
    "\n",
    "    j_car.release_car(j_engine)\n",
    "\n",
    "    r_factory = RussianFactory()\n",
    "    r_engine = r_factory.create_engine()\n",
    "    r_car = r_factory.create_car()\n",
    "\n",
    "    r_car.release_car(r_engine)\n",
    "\n",
    "\n",
    "\n",
    "\n",
    "\n",
    "\n",
    "\n"
   ]
  }
 ],
 "metadata": {
  "kernelspec": {
   "display_name": "Python 3",
   "language": "python",
   "name": "python3"
  },
  "language_info": {
   "codemirror_mode": {
    "name": "ipython",
    "version": 3
   },
   "file_extension": ".py",
   "mimetype": "text/x-python",
   "name": "python",
   "nbconvert_exporter": "python",
   "pygments_lexer": "ipython3",
   "version": "3.13.2"
  }
 },
 "nbformat": 4,
 "nbformat_minor": 2
}
