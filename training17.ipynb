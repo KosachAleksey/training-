{
 "cells": [
  {
   "cell_type": "markdown",
   "metadata": {},
   "source": [
    "Дано две разные позиции на шахматной доске, найдите наименьшее количество ходов, которое потребуется коню, чтобы добраться из одной в другую. Позиции будут переданы как два аргумента в алгебраической нотации. Например, knight(\"a3\", \"b5\")должно возвращать 1.\n",
    "\n",
    "Коню не разрешается выходить за пределы доски. Доска 8х8.\n",
    "\n",
    "Информацию о ходах коня см. по ссылке https://en.wikipedia.org/wiki/Knight_%28chess%29\n",
    "\n",
    "Информацию об алгебраической нотации см. по адресу https://en.wikipedia.org/wiki/Algebraic_notation_%28chess%29\n",
    "\n",
    "(Предупреждение: многие тесты были сгенерированы случайным образом. Если какие-либо из них не сработают, тестовые случаи вернут входные данные, выходные данные и ожидаемые выходные данные; пожалуйста, опубликуйте их.)"
   ]
  },
  {
   "cell_type": "code",
   "execution_count": 2,
   "metadata": {},
   "outputs": [
    {
     "name": "stdout",
     "output_type": "stream",
     "text": [
      "1\n",
      "6\n"
     ]
    }
   ],
   "source": [
    "from collections import deque\n",
    "\n",
    "def knight(p1, p2):\n",
    "    def chess_notation_to_coords(position):\n",
    "        return ord(position[0]) - ord('a'), int(position[1]) - 1\n",
    "    \n",
    "    start = chess_notation_to_coords(p1)\n",
    "    end = chess_notation_to_coords(p2)\n",
    "    \n",
    "    if start == end:\n",
    "        return 0\n",
    "    \n",
    "    moves = [\n",
    "        (2, 1), (2, -1), (-2, 1), (-2, -1),\n",
    "        (1, 2), (1, -2), (-1, 2), (-1, -2)\n",
    "    ]\n",
    "    \n",
    "    queue = deque([(start[0], start[1], 0)])\n",
    "    visited = set()\n",
    "    visited.add(start)\n",
    "    \n",
    "    while queue:\n",
    "        x, y, depth = queue.popleft()\n",
    "        for dx, dy in moves:\n",
    "            nx, ny = x + dx, y + dy\n",
    "            if (nx, ny) == end:\n",
    "                return depth + 1\n",
    "            if 0 <= nx < 8 and 0 <= ny < 8 and (nx, ny) not in visited:\n",
    "                visited.add((nx, ny))\n",
    "                queue.append((nx, ny, depth + 1))\n",
    "    \n",
    "    return -1  # Это значение никогда не будет достигнуто на стандартной шахматной доске\n",
    "\n",
    "# Примеры использования\n",
    "print(knight(\"a3\", \"b5\"))  # 1\n",
    "print(knight(\"a1\", \"h8\"))  # 6"
   ]
  }
 ],
 "metadata": {
  "kernelspec": {
   "display_name": "Python 3",
   "language": "python",
   "name": "python3"
  },
  "language_info": {
   "codemirror_mode": {
    "name": "ipython",
    "version": 3
   },
   "file_extension": ".py",
   "mimetype": "text/x-python",
   "name": "python",
   "nbconvert_exporter": "python",
   "pygments_lexer": "ipython3",
   "version": "3.13.2"
  }
 },
 "nbformat": 4,
 "nbformat_minor": 2
}
