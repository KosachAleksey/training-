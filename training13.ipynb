{
 "cells": [
  {
   "cell_type": "markdown",
   "metadata": {},
   "source": [
    "Напишите функцию: simplify, которая принимает строку на входе, представляющую собой полилинейный непостоянный полином с целыми коэффициентами (например \"3x-zx+2xy-x\"), и возвращает другую строку на выходе, где то же самое выражение было упрощено следующим образом ( ->означает применение simplify):\n",
    "\n",
    "Были выполнены все возможные суммы и вычитания эквивалентных одночленов («xy==yx»), например:\n",
    "\"cb+cba\" -> \"bc+abc\", \"2xy-yx\" -> \"xy\",\"-a+5ab+3a-c-2a\" -> \"-c+5ab\"\n",
    "\n",
    "Все одночлены располагаются в порядке возрастания числа переменных, например:\n",
    "\"-abc+3a+2ac\" -> \"3a+2ac-abc\",\"xyz-xz\" -> \"-xz+xyz\"\n",
    "\n",
    "Если два одночлена имеют одинаковое количество переменных, они располагаются в лексикографическом порядке , например:\n",
    "\"a+ca-ab\" -> \"a-ab+ac\",\"xzy+zby\" ->\"byz+xyz\"\n",
    "\n",
    "+Если первый коэффициент положительный, то ведущий знак отсутствует , например:\n",
    "\"-y+x\" -> \"x-y\", но нет ограничений для -: \"y-x\" ->\"-x+y\"\n",
    "\n",
    "NB , чтобы упростить, строка на входе ограничена представлением только полилинейных непостоянных полиномов , поэтому вы не найдете ничего вроде `-3+yx^2'. Полилинейный означает в этом контексте: степени 1 по каждой переменной .\n",
    "\n",
    "Предупреждение : строка во входных данных может содержать произвольные переменные, представленные строчными буквами английского алфавита."
   ]
  },
  {
   "cell_type": "code",
   "execution_count": null,
   "metadata": {},
   "outputs": [
    {
     "name": "stdout",
     "output_type": "stream",
     "text": [
      "2x+2xy-xz\n",
      "bc+abc\n",
      "xy\n",
      "-c+5ab\n",
      "3a+2ac-abc\n",
      "-xz+xyz\n",
      "a-ab+ac\n",
      "byz+xyz\n",
      "3ab+4ac\n",
      "-2n+2hhjjnnt\n",
      "3fk-kq+5kv-2fkqqvvyy\n"
     ]
    }
   ],
   "source": [
    "from collections import defaultdict\n",
    "import re\n",
    "\n",
    "def simplify(poly):\n",
    "    term_dict = defaultdict(int)\n",
    "    \n",
    "    # Разбираем многочлен на одночлены с учетом знаков\n",
    "    terms = re.findall(r'[+-]?\\d*[a-z]+|[+-]?\\d+', poly)\n",
    "    \n",
    "    for term in terms:\n",
    "        match = re.match(r'([+-]?)(\\d*)([a-z]*)', term)\n",
    "        sign, coeff, vars = match.groups()\n",
    "        \n",
    "        coeff = int(coeff) if coeff else 1  # Если коэффициент отсутствует, он равен 1\n",
    "        if sign == '-':\n",
    "            coeff = -coeff\n",
    "        \n",
    "        sorted_vars = ''.join(sorted(vars))  # Упорядочиваем переменные\n",
    "        term_dict[sorted_vars] += coeff\n",
    "    \n",
    "    # Фильтруем нулевые коэффициенты\n",
    "    terms = [(coeff, var) for var, coeff in term_dict.items() if coeff != 0]\n",
    "    \n",
    "    # Сортируем по длине переменных, затем лексикографически\n",
    "    terms.sort(key=lambda x: (len(x[1]), x[1]))\n",
    "    \n",
    "    # Формируем результат\n",
    "    result = []\n",
    "    for coeff, var in terms:\n",
    "        if coeff == 1:\n",
    "            result.append(var)\n",
    "        elif coeff == -1:\n",
    "            result.append('-' + var)\n",
    "        else:\n",
    "            result.append(f\"{coeff}{var}\" if coeff > 0 else f\"-{abs(coeff)}{var}\")\n",
    "    \n",
    "    return '+'.join(result).replace('+-', '-')\n",
    "\n",
    "print(simplify(\"3x-zx+2xy-x\"))   # \"2xy-x\"\n",
    "print(simplify(\"cb+cba\"))         # \"bc+abc\"\n",
    "print(simplify(\"2xy-yx\"))         # \"xy\"\n",
    "print(simplify(\"-a+5ab+3a-c-2a\")) # \"-c+5ab\"\n",
    "print(simplify(\"-abc+3a+2ac\"))    # \"3a+2ac-abc\"\n",
    "print(simplify(\"xyz-xz\"))         # \"-xz+xyz\"\n",
    "print(simplify(\"a+ca-ab\"))        # \"a-ab+ac\"\n",
    "print(simplify(\"xzy+zby\"))        # \"byz+xyz\"\n",
    "print(simplify(\"4ab-ab4ac\"))      # \"4a+b-ab+4ac\"\n",
    "print(simplify(\"-2n2hjnhjnt\"))    # \"-2n+2hjn+hjnt\"\n",
    "print(simplify(\"3fk-kq5kv-2qvyfkqvy\")) # \"3fk-kq+5kv-2qvy+fkqvy\""
   ]
  },
  {
   "cell_type": "code",
   "execution_count": null,
   "metadata": {},
   "outputs": [],
   "source": []
  }
 ],
 "metadata": {
  "kernelspec": {
   "display_name": "Python 3",
   "language": "python",
   "name": "python3"
  },
  "language_info": {
   "codemirror_mode": {
    "name": "ipython",
    "version": 3
   },
   "file_extension": ".py",
   "mimetype": "text/x-python",
   "name": "python",
   "nbconvert_exporter": "python",
   "pygments_lexer": "ipython3",
   "version": "3.13.2"
  }
 },
 "nbformat": 4,
 "nbformat_minor": 2
}
