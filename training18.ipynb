{
 "cells": [
  {
   "cell_type": "markdown",
   "metadata": {},
   "source": []
  },
  {
   "cell_type": "code",
   "execution_count": 3,
   "metadata": {},
   "outputs": [
    {
     "name": "stdout",
     "output_type": "stream",
     "text": [
      "3\n",
      "579\n",
      "1000\n",
      "1111111110\n"
     ]
    }
   ],
   "source": [
    "def sum_strings(a, b):\n",
    "  \n",
    "    a, b = a.zfill(max(len(a), len(b))), b.zfill(max(len(a), len(b)))\n",
    "    \n",
    "    carry = 0 \n",
    "    result = []\n",
    "    \n",
    "   \n",
    "    for i in range(len(a) - 1, -1, -1):\n",
    "        digit_sum = int(a[i]) + int(b[i]) + carry\n",
    "        carry = digit_sum // 10 \n",
    "        result.append(str(digit_sum % 10))\n",
    "    \n",
    "    # Если остался перенос, добавляем его в начало\n",
    "    if carry:\n",
    "        result.append(str(carry))\n",
    "    \n",
    "    return ''.join(result[::-1]).lstrip('0') or '0'  \n",
    "\n",
    "\n",
    "print(sum_strings('1', '2'))  \n",
    "print(sum_strings('123', '456'))  \n",
    "print(sum_strings('999', '1'))  \n",
    "print(sum_strings('987654321', '123456789')) "
   ]
  }
 ],
 "metadata": {
  "kernelspec": {
   "display_name": "Python 3",
   "language": "python",
   "name": "python3"
  },
  "language_info": {
   "codemirror_mode": {
    "name": "ipython",
    "version": 3
   },
   "file_extension": ".py",
   "mimetype": "text/x-python",
   "name": "python",
   "nbconvert_exporter": "python",
   "pygments_lexer": "ipython3",
   "version": "3.13.2"
  }
 },
 "nbformat": 4,
 "nbformat_minor": 2
}
