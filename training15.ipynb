{
 "cells": [
  {
   "cell_type": "markdown",
   "metadata": {},
   "source": [
    "Рассмотрим «слово» как любую последовательность заглавных букв AZ (не ограничиваясь только «словарными словами»). Для любого слова, содержащего по крайней мере две разные буквы, существуют другие слова, состоящие из тех же букв, но в другом порядке (например, STATIONARILY/ANTIROYALIST, которые оба являются словарными словами; для наших целей «AAIILNORSTTY» также является «словом», состоящим из тех же букв, что и эти два).\n",
    "\n",
    "Затем мы можем присвоить каждому слову номер, основываясь на том, где оно находится в алфавитном порядке списка всех слов, составленных из одной и той же группы букв. Один из способов сделать это — сгенерировать весь список слов и найти нужное, но это будет медленно, если слово длинное.\n",
    "\n",
    "Дано слово, вернуть его номер. Ваша функция должна иметь возможность принимать любое слово длиной 25 букв или меньше (возможно, с некоторыми повторяющимися буквами) и выполняться не более 500 миллисекунд. Для сравнения, когда код решения запускает 27 тестовых случаев в JS, это занимает 101 мс.\n",
    "\n",
    "Для очень больших слов вы столкнетесь с проблемами точности чисел в JS (если позиция слова больше 2^53). Для тестов JS с большими позициями есть некоторая свобода (.000000001%). Если вы чувствуете, что делаете все правильно для меньших рангов и ошибаетесь только при округлении больших, отправьте еще пару раз и посмотрите, сработает ли это.\n",
    "\n",
    "В Python, Java и Haskell точность целых чисел произвольная, поэтому в этих языках нужно быть точным (если меня никто не поправит).\n",
    "\n",
    "C# использует long, что может быть не самым точным, но тесты заблокированы, поэтому мы не можем это изменить.\n",
    "\n",
    "Примеры слов с их рангом:\n",
    "ABAB = 2\n",
    "AAAB = 1\n",
    "BAAA = 4\n",
    "ВОПРОС = 24572\n",
    "БУХГАЛТЕР = 10743"
   ]
  },
  {
   "cell_type": "code",
   "execution_count": 2,
   "metadata": {},
   "outputs": [
    {
     "name": "stdout",
     "output_type": "stream",
     "text": [
      "2\n",
      "1\n",
      "4\n",
      "9\n",
      "75011\n"
     ]
    }
   ],
   "source": [
    "from math import factorial\n",
    "from collections import Counter\n",
    "\n",
    "def list_position(word):\n",
    "    \"\"\"Return the anagram list position of the word\"\"\"\n",
    "    if len(word) == 1:\n",
    "        return 1\n",
    "    \n",
    "    rank = 1\n",
    "    char_counts = Counter(word)  # Подсчет вхождений букв в слове\n",
    "    \n",
    "    for i, c in enumerate(word):\n",
    "        for ch in sorted(char_counts):\n",
    "            if ch < c:\n",
    "                char_counts[ch] -= 1\n",
    "                rank += factorial(len(word) - i - 1) // prod_factorial_counts(char_counts)\n",
    "                char_counts[ch] += 1\n",
    "        \n",
    "        char_counts[c] -= 1\n",
    "        if char_counts[c] == 0:\n",
    "            del char_counts[c]\n",
    "    \n",
    "    return rank\n",
    "\n",
    "def prod_factorial_counts(counter):\n",
    "    \"\"\"Вычисляет произведение факториалов частот букв\"\"\"\n",
    "    result = 1\n",
    "    for count in counter.values():\n",
    "        result *= factorial(count)\n",
    "    return result\n",
    "\n",
    "# Тестовые примеры\n",
    "print(list_position(\"ABAB\"))  # 2\n",
    "print(list_position(\"AAAB\"))  # 1\n",
    "print(list_position(\"BAAA\"))  # 4\n",
    "print(list_position(\"ВОПРОС\"))  # 24572\n",
    "print(list_position(\"БУХГАЛТЕР\"))  # 10743"
   ]
  }
 ],
 "metadata": {
  "kernelspec": {
   "display_name": "Python 3",
   "language": "python",
   "name": "python3"
  },
  "language_info": {
   "codemirror_mode": {
    "name": "ipython",
    "version": 3
   },
   "file_extension": ".py",
   "mimetype": "text/x-python",
   "name": "python",
   "nbconvert_exporter": "python",
   "pygments_lexer": "ipython3",
   "version": "3.13.2"
  }
 },
 "nbformat": 4,
 "nbformat_minor": 2
}
